{
 "cells": [
  {
   "cell_type": "code",
   "execution_count": 1,
   "metadata": {},
   "outputs": [],
   "source": [
    "import pandas as pd"
   ]
  },
  {
   "cell_type": "code",
   "execution_count": 2,
   "metadata": {},
   "outputs": [
    {
     "data": {
      "text/html": [
       "<div>\n",
       "<style scoped>\n",
       "    .dataframe tbody tr th:only-of-type {\n",
       "        vertical-align: middle;\n",
       "    }\n",
       "\n",
       "    .dataframe tbody tr th {\n",
       "        vertical-align: top;\n",
       "    }\n",
       "\n",
       "    .dataframe thead th {\n",
       "        text-align: right;\n",
       "    }\n",
       "</style>\n",
       "<table border=\"1\" class=\"dataframe\">\n",
       "  <thead>\n",
       "    <tr style=\"text-align: right;\">\n",
       "      <th></th>\n",
       "      <th>ID</th>\n",
       "      <th>Name</th>\n",
       "      <th>Industry</th>\n",
       "      <th>Inception</th>\n",
       "      <th>Revenue</th>\n",
       "      <th>Expenses</th>\n",
       "      <th>Profit</th>\n",
       "      <th>Growth</th>\n",
       "      <th>Date</th>\n",
       "      <th>dateTime</th>\n",
       "    </tr>\n",
       "  </thead>\n",
       "  <tbody>\n",
       "    <tr>\n",
       "      <th>0</th>\n",
       "      <td>1</td>\n",
       "      <td>Lamtone</td>\n",
       "      <td>IT Services</td>\n",
       "      <td>2009</td>\n",
       "      <td>$11,757,018</td>\n",
       "      <td>6,482,465 Dollars</td>\n",
       "      <td>5274553</td>\n",
       "      <td>30%</td>\n",
       "      <td>Yes</td>\n",
       "      <td>1/2/2024</td>\n",
       "    </tr>\n",
       "    <tr>\n",
       "      <th>1</th>\n",
       "      <td>2</td>\n",
       "      <td>Stripfind</td>\n",
       "      <td>Financial Services</td>\n",
       "      <td>2010</td>\n",
       "      <td>$12,329,371</td>\n",
       "      <td>916,455 Dollars</td>\n",
       "      <td>11412916</td>\n",
       "      <td>20%</td>\n",
       "      <td>Yes</td>\n",
       "      <td>1/3/2024</td>\n",
       "    </tr>\n",
       "    <tr>\n",
       "      <th>2</th>\n",
       "      <td>3</td>\n",
       "      <td>Canecorporation</td>\n",
       "      <td>Health</td>\n",
       "      <td>2012</td>\n",
       "      <td>$10,597,009</td>\n",
       "      <td>7,591,189 Dollars</td>\n",
       "      <td>3005820</td>\n",
       "      <td>7%</td>\n",
       "      <td>Yes</td>\n",
       "      <td>1/4/2024</td>\n",
       "    </tr>\n",
       "    <tr>\n",
       "      <th>3</th>\n",
       "      <td>4</td>\n",
       "      <td>Mattouch</td>\n",
       "      <td>IT Services</td>\n",
       "      <td>2013</td>\n",
       "      <td>$14,026,934</td>\n",
       "      <td>7,429,377 Dollars</td>\n",
       "      <td>6597557</td>\n",
       "      <td>26%</td>\n",
       "      <td>Yes</td>\n",
       "      <td>1/5/2024</td>\n",
       "    </tr>\n",
       "    <tr>\n",
       "      <th>4</th>\n",
       "      <td>5</td>\n",
       "      <td>Techdrill</td>\n",
       "      <td>Health</td>\n",
       "      <td>2009</td>\n",
       "      <td>$10,573,990</td>\n",
       "      <td>7,435,363 Dollars</td>\n",
       "      <td>3138627</td>\n",
       "      <td>8%</td>\n",
       "      <td>Yes</td>\n",
       "      <td>NaN</td>\n",
       "    </tr>\n",
       "    <tr>\n",
       "      <th>5</th>\n",
       "      <td>6</td>\n",
       "      <td>Techline</td>\n",
       "      <td>Health</td>\n",
       "      <td>2006</td>\n",
       "      <td>$13,898,119</td>\n",
       "      <td>5,470,303 Dollars</td>\n",
       "      <td>8427816</td>\n",
       "      <td>23%</td>\n",
       "      <td>No</td>\n",
       "      <td>NaN</td>\n",
       "    </tr>\n",
       "    <tr>\n",
       "      <th>6</th>\n",
       "      <td>7</td>\n",
       "      <td>Cityace</td>\n",
       "      <td>Health</td>\n",
       "      <td>2010</td>\n",
       "      <td>$9,254,614</td>\n",
       "      <td>6,249,498 Dollars</td>\n",
       "      <td>3005116</td>\n",
       "      <td>6%</td>\n",
       "      <td>Yes</td>\n",
       "      <td>NaN</td>\n",
       "    </tr>\n",
       "    <tr>\n",
       "      <th>7</th>\n",
       "      <td>8</td>\n",
       "      <td>Kayelectronics</td>\n",
       "      <td>Health</td>\n",
       "      <td>2009</td>\n",
       "      <td>$9,451,943</td>\n",
       "      <td>3,878,113 Dollars</td>\n",
       "      <td>5573830</td>\n",
       "      <td>4%</td>\n",
       "      <td>Yes</td>\n",
       "      <td>1/9/2024</td>\n",
       "    </tr>\n",
       "    <tr>\n",
       "      <th>8</th>\n",
       "      <td>9</td>\n",
       "      <td>Ganzlax</td>\n",
       "      <td>IT Services</td>\n",
       "      <td>2011</td>\n",
       "      <td>$14,001,180</td>\n",
       "      <td>3,878,113 Dollars</td>\n",
       "      <td>11901180</td>\n",
       "      <td>18%</td>\n",
       "      <td>No</td>\n",
       "      <td>1/10/2024</td>\n",
       "    </tr>\n",
       "    <tr>\n",
       "      <th>9</th>\n",
       "      <td>10</td>\n",
       "      <td>Trantraxlax</td>\n",
       "      <td>Government Services</td>\n",
       "      <td>2011</td>\n",
       "      <td>$11,088,336</td>\n",
       "      <td>5,635,276 Dollars</td>\n",
       "      <td>5453060</td>\n",
       "      <td>7%</td>\n",
       "      <td>Yes</td>\n",
       "      <td>1/11/2024</td>\n",
       "    </tr>\n",
       "  </tbody>\n",
       "</table>\n",
       "</div>"
      ],
      "text/plain": [
       "   ID             Name             Industry  Inception       Revenue  \\\n",
       "0   1          Lamtone          IT Services       2009  $11,757,018    \n",
       "1   2        Stripfind   Financial Services       2010  $12,329,371    \n",
       "2   3  Canecorporation               Health       2012  $10,597,009    \n",
       "3   4         Mattouch          IT Services       2013  $14,026,934    \n",
       "4   5        Techdrill               Health       2009  $10,573,990    \n",
       "5   6         Techline               Health       2006  $13,898,119    \n",
       "6   7          Cityace               Health       2010   $9,254,614    \n",
       "7   8   Kayelectronics               Health       2009   $9,451,943    \n",
       "8   9          Ganzlax          IT Services       2011  $14,001,180    \n",
       "9  10      Trantraxlax  Government Services       2011  $11,088,336    \n",
       "\n",
       "            Expenses    Profit Growth Date   dateTime  \n",
       "0  6,482,465 Dollars   5274553    30%  Yes   1/2/2024  \n",
       "1    916,455 Dollars  11412916    20%  Yes   1/3/2024  \n",
       "2  7,591,189 Dollars   3005820     7%  Yes   1/4/2024  \n",
       "3  7,429,377 Dollars   6597557    26%  Yes   1/5/2024  \n",
       "4  7,435,363 Dollars   3138627     8%  Yes        NaN  \n",
       "5  5,470,303 Dollars   8427816    23%   No        NaN  \n",
       "6  6,249,498 Dollars   3005116     6%  Yes        NaN  \n",
       "7  3,878,113 Dollars   5573830     4%  Yes   1/9/2024  \n",
       "8  3,878,113 Dollars  11901180    18%   No  1/10/2024  \n",
       "9  5,635,276 Dollars   5453060     7%  Yes  1/11/2024  "
      ]
     },
     "execution_count": 2,
     "metadata": {},
     "output_type": "execute_result"
    }
   ],
   "source": [
    "read_csv = pd.read_csv(\"c:/users/musfik/documents/Copy of Fortune_10.csv\")\n",
    "read_csv"
   ]
  },
  {
   "cell_type": "code",
   "execution_count": 3,
   "metadata": {},
   "outputs": [
    {
     "data": {
      "text/plain": [
       "ID                           1\n",
       "Name                   Lamtone\n",
       "Industry           IT Services\n",
       "Inception                 2009\n",
       "Revenue           $11,757,018 \n",
       "Expenses     6,482,465 Dollars\n",
       "Profit                 5274553\n",
       "Growth                     30%\n",
       "Date                       Yes\n",
       "dateTime              1/2/2024\n",
       "Name: 0, dtype: object"
      ]
     },
     "execution_count": 3,
     "metadata": {},
     "output_type": "execute_result"
    }
   ],
   "source": [
    "read_csv.loc[0]"
   ]
  },
  {
   "cell_type": "code",
   "execution_count": 4,
   "metadata": {},
   "outputs": [
    {
     "data": {
      "text/plain": [
       "ID                            10\n",
       "Name                 Trantraxlax\n",
       "Industry     Government Services\n",
       "Inception                   2011\n",
       "Revenue             $11,088,336 \n",
       "Expenses       5,635,276 Dollars\n",
       "Profit                   5453060\n",
       "Growth                        7%\n",
       "Date                         Yes\n",
       "dateTime               1/11/2024\n",
       "Name: 9, dtype: object"
      ]
     },
     "execution_count": 4,
     "metadata": {},
     "output_type": "execute_result"
    }
   ],
   "source": [
    "read_csv.loc[9]"
   ]
  },
  {
   "cell_type": "code",
   "execution_count": 5,
   "metadata": {},
   "outputs": [
    {
     "data": {
      "text/html": [
       "<div>\n",
       "<style scoped>\n",
       "    .dataframe tbody tr th:only-of-type {\n",
       "        vertical-align: middle;\n",
       "    }\n",
       "\n",
       "    .dataframe tbody tr th {\n",
       "        vertical-align: top;\n",
       "    }\n",
       "\n",
       "    .dataframe thead th {\n",
       "        text-align: right;\n",
       "    }\n",
       "</style>\n",
       "<table border=\"1\" class=\"dataframe\">\n",
       "  <thead>\n",
       "    <tr style=\"text-align: right;\">\n",
       "      <th></th>\n",
       "      <th>ID</th>\n",
       "      <th>Name</th>\n",
       "      <th>Industry</th>\n",
       "      <th>Inception</th>\n",
       "      <th>Revenue</th>\n",
       "      <th>Expenses</th>\n",
       "      <th>Profit</th>\n",
       "      <th>Growth</th>\n",
       "      <th>Date</th>\n",
       "      <th>dateTime</th>\n",
       "    </tr>\n",
       "  </thead>\n",
       "  <tbody>\n",
       "    <tr>\n",
       "      <th>1</th>\n",
       "      <td>2</td>\n",
       "      <td>Stripfind</td>\n",
       "      <td>Financial Services</td>\n",
       "      <td>2010</td>\n",
       "      <td>$12,329,371</td>\n",
       "      <td>916,455 Dollars</td>\n",
       "      <td>11412916</td>\n",
       "      <td>20%</td>\n",
       "      <td>Yes</td>\n",
       "      <td>1/3/2024</td>\n",
       "    </tr>\n",
       "    <tr>\n",
       "      <th>3</th>\n",
       "      <td>4</td>\n",
       "      <td>Mattouch</td>\n",
       "      <td>IT Services</td>\n",
       "      <td>2013</td>\n",
       "      <td>$14,026,934</td>\n",
       "      <td>7,429,377 Dollars</td>\n",
       "      <td>6597557</td>\n",
       "      <td>26%</td>\n",
       "      <td>Yes</td>\n",
       "      <td>1/5/2024</td>\n",
       "    </tr>\n",
       "  </tbody>\n",
       "</table>\n",
       "</div>"
      ],
      "text/plain": [
       "   ID       Name            Industry  Inception       Revenue  \\\n",
       "1   2  Stripfind  Financial Services       2010  $12,329,371    \n",
       "3   4   Mattouch         IT Services       2013  $14,026,934    \n",
       "\n",
       "            Expenses    Profit Growth Date  dateTime  \n",
       "1    916,455 Dollars  11412916    20%  Yes  1/3/2024  \n",
       "3  7,429,377 Dollars   6597557    26%  Yes  1/5/2024  "
      ]
     },
     "execution_count": 5,
     "metadata": {},
     "output_type": "execute_result"
    }
   ],
   "source": [
    "read_csv.loc[[1,3]]"
   ]
  },
  {
   "cell_type": "code",
   "execution_count": 6,
   "metadata": {},
   "outputs": [
    {
     "data": {
      "text/plain": [
       "'Techdrill'"
      ]
     },
     "execution_count": 6,
     "metadata": {},
     "output_type": "execute_result"
    }
   ],
   "source": [
    "read_csv.loc[4,\"Name\"]"
   ]
  },
  {
   "cell_type": "code",
   "execution_count": 7,
   "metadata": {},
   "outputs": [
    {
     "data": {
      "text/plain": [
       "Name        Techdrill\n",
       "Industry       Health\n",
       "Name: 4, dtype: object"
      ]
     },
     "execution_count": 7,
     "metadata": {},
     "output_type": "execute_result"
    }
   ],
   "source": [
    "read_csv.loc[4,[\"Name\",\"Industry\"]]"
   ]
  },
  {
   "cell_type": "code",
   "execution_count": 8,
   "metadata": {},
   "outputs": [
    {
     "data": {
      "text/html": [
       "<div>\n",
       "<style scoped>\n",
       "    .dataframe tbody tr th:only-of-type {\n",
       "        vertical-align: middle;\n",
       "    }\n",
       "\n",
       "    .dataframe tbody tr th {\n",
       "        vertical-align: top;\n",
       "    }\n",
       "\n",
       "    .dataframe thead th {\n",
       "        text-align: right;\n",
       "    }\n",
       "</style>\n",
       "<table border=\"1\" class=\"dataframe\">\n",
       "  <thead>\n",
       "    <tr style=\"text-align: right;\">\n",
       "      <th></th>\n",
       "      <th>Name</th>\n",
       "      <th>Industry</th>\n",
       "    </tr>\n",
       "  </thead>\n",
       "  <tbody>\n",
       "    <tr>\n",
       "      <th>4</th>\n",
       "      <td>Techdrill</td>\n",
       "      <td>Health</td>\n",
       "    </tr>\n",
       "    <tr>\n",
       "      <th>5</th>\n",
       "      <td>Techline</td>\n",
       "      <td>Health</td>\n",
       "    </tr>\n",
       "    <tr>\n",
       "      <th>6</th>\n",
       "      <td>Cityace</td>\n",
       "      <td>Health</td>\n",
       "    </tr>\n",
       "    <tr>\n",
       "      <th>7</th>\n",
       "      <td>Kayelectronics</td>\n",
       "      <td>Health</td>\n",
       "    </tr>\n",
       "  </tbody>\n",
       "</table>\n",
       "</div>"
      ],
      "text/plain": [
       "             Name Industry\n",
       "4       Techdrill   Health\n",
       "5        Techline   Health\n",
       "6         Cityace   Health\n",
       "7  Kayelectronics   Health"
      ]
     },
     "execution_count": 8,
     "metadata": {},
     "output_type": "execute_result"
    }
   ],
   "source": [
    "read_csv.loc[4:7,[\"Name\",\"Industry\"]]"
   ]
  },
  {
   "cell_type": "code",
   "execution_count": 9,
   "metadata": {},
   "outputs": [
    {
     "data": {
      "text/html": [
       "<div>\n",
       "<style scoped>\n",
       "    .dataframe tbody tr th:only-of-type {\n",
       "        vertical-align: middle;\n",
       "    }\n",
       "\n",
       "    .dataframe tbody tr th {\n",
       "        vertical-align: top;\n",
       "    }\n",
       "\n",
       "    .dataframe thead th {\n",
       "        text-align: right;\n",
       "    }\n",
       "</style>\n",
       "<table border=\"1\" class=\"dataframe\">\n",
       "  <thead>\n",
       "    <tr style=\"text-align: right;\">\n",
       "      <th></th>\n",
       "      <th>ID</th>\n",
       "      <th>Name</th>\n",
       "      <th>Industry</th>\n",
       "      <th>Inception</th>\n",
       "      <th>Revenue</th>\n",
       "      <th>Expenses</th>\n",
       "      <th>Profit</th>\n",
       "      <th>Growth</th>\n",
       "      <th>Date</th>\n",
       "      <th>dateTime</th>\n",
       "    </tr>\n",
       "  </thead>\n",
       "  <tbody>\n",
       "    <tr>\n",
       "      <th>0</th>\n",
       "      <td>1</td>\n",
       "      <td>Lamtone</td>\n",
       "      <td>IT Services</td>\n",
       "      <td>2009</td>\n",
       "      <td>$11,757,018</td>\n",
       "      <td>6,482,465 Dollars</td>\n",
       "      <td>5274553</td>\n",
       "      <td>30%</td>\n",
       "      <td>Yes</td>\n",
       "      <td>1/2/2024</td>\n",
       "    </tr>\n",
       "    <tr>\n",
       "      <th>1</th>\n",
       "      <td>2</td>\n",
       "      <td>Stripfind</td>\n",
       "      <td>Financial Services</td>\n",
       "      <td>2010</td>\n",
       "      <td>$12,329,371</td>\n",
       "      <td>916,455 Dollars</td>\n",
       "      <td>11412916</td>\n",
       "      <td>20%</td>\n",
       "      <td>Yes</td>\n",
       "      <td>1/3/2024</td>\n",
       "    </tr>\n",
       "  </tbody>\n",
       "</table>\n",
       "</div>"
      ],
      "text/plain": [
       "   ID       Name            Industry  Inception       Revenue  \\\n",
       "0   1    Lamtone         IT Services       2009  $11,757,018    \n",
       "1   2  Stripfind  Financial Services       2010  $12,329,371    \n",
       "\n",
       "            Expenses    Profit Growth Date  dateTime  \n",
       "0  6,482,465 Dollars   5274553    30%  Yes  1/2/2024  \n",
       "1    916,455 Dollars  11412916    20%  Yes  1/3/2024  "
      ]
     },
     "execution_count": 9,
     "metadata": {},
     "output_type": "execute_result"
    }
   ],
   "source": [
    "read_csv.loc[[True,True,False,False,False,False,False]]"
   ]
  },
  {
   "cell_type": "code",
   "execution_count": 11,
   "metadata": {},
   "outputs": [
    {
     "data": {
      "text/html": [
       "<div>\n",
       "<style scoped>\n",
       "    .dataframe tbody tr th:only-of-type {\n",
       "        vertical-align: middle;\n",
       "    }\n",
       "\n",
       "    .dataframe tbody tr th {\n",
       "        vertical-align: top;\n",
       "    }\n",
       "\n",
       "    .dataframe thead th {\n",
       "        text-align: right;\n",
       "    }\n",
       "</style>\n",
       "<table border=\"1\" class=\"dataframe\">\n",
       "  <thead>\n",
       "    <tr style=\"text-align: right;\">\n",
       "      <th></th>\n",
       "      <th>ID</th>\n",
       "      <th>Name</th>\n",
       "      <th>Industry</th>\n",
       "      <th>Inception</th>\n",
       "      <th>Revenue</th>\n",
       "      <th>Expenses</th>\n",
       "      <th>Profit</th>\n",
       "      <th>Growth</th>\n",
       "      <th>Date</th>\n",
       "      <th>dateTime</th>\n",
       "    </tr>\n",
       "  </thead>\n",
       "  <tbody>\n",
       "    <tr>\n",
       "      <th>5</th>\n",
       "      <td>6</td>\n",
       "      <td>Techline</td>\n",
       "      <td>Health</td>\n",
       "      <td>2006</td>\n",
       "      <td>$13,898,119</td>\n",
       "      <td>5,470,303 Dollars</td>\n",
       "      <td>8427816</td>\n",
       "      <td>23%</td>\n",
       "      <td>No</td>\n",
       "      <td>NaN</td>\n",
       "    </tr>\n",
       "    <tr>\n",
       "      <th>6</th>\n",
       "      <td>7</td>\n",
       "      <td>Cityace</td>\n",
       "      <td>Health</td>\n",
       "      <td>2010</td>\n",
       "      <td>$9,254,614</td>\n",
       "      <td>6,249,498 Dollars</td>\n",
       "      <td>3005116</td>\n",
       "      <td>6%</td>\n",
       "      <td>Yes</td>\n",
       "      <td>NaN</td>\n",
       "    </tr>\n",
       "    <tr>\n",
       "      <th>7</th>\n",
       "      <td>8</td>\n",
       "      <td>Kayelectronics</td>\n",
       "      <td>Health</td>\n",
       "      <td>2009</td>\n",
       "      <td>$9,451,943</td>\n",
       "      <td>3,878,113 Dollars</td>\n",
       "      <td>5573830</td>\n",
       "      <td>4%</td>\n",
       "      <td>Yes</td>\n",
       "      <td>1/9/2024</td>\n",
       "    </tr>\n",
       "    <tr>\n",
       "      <th>8</th>\n",
       "      <td>9</td>\n",
       "      <td>Ganzlax</td>\n",
       "      <td>IT Services</td>\n",
       "      <td>2011</td>\n",
       "      <td>$14,001,180</td>\n",
       "      <td>3,878,113 Dollars</td>\n",
       "      <td>11901180</td>\n",
       "      <td>18%</td>\n",
       "      <td>No</td>\n",
       "      <td>1/10/2024</td>\n",
       "    </tr>\n",
       "    <tr>\n",
       "      <th>9</th>\n",
       "      <td>10</td>\n",
       "      <td>Trantraxlax</td>\n",
       "      <td>Government Services</td>\n",
       "      <td>2011</td>\n",
       "      <td>$11,088,336</td>\n",
       "      <td>5,635,276 Dollars</td>\n",
       "      <td>5453060</td>\n",
       "      <td>7%</td>\n",
       "      <td>Yes</td>\n",
       "      <td>1/11/2024</td>\n",
       "    </tr>\n",
       "  </tbody>\n",
       "</table>\n",
       "</div>"
      ],
      "text/plain": [
       "   ID            Name             Industry  Inception       Revenue  \\\n",
       "5   6        Techline               Health       2006  $13,898,119    \n",
       "6   7         Cityace               Health       2010   $9,254,614    \n",
       "7   8  Kayelectronics               Health       2009   $9,451,943    \n",
       "8   9         Ganzlax          IT Services       2011  $14,001,180    \n",
       "9  10     Trantraxlax  Government Services       2011  $11,088,336    \n",
       "\n",
       "            Expenses    Profit Growth Date   dateTime  \n",
       "5  5,470,303 Dollars   8427816    23%   No        NaN  \n",
       "6  6,249,498 Dollars   3005116     6%  Yes        NaN  \n",
       "7  3,878,113 Dollars   5573830     4%  Yes   1/9/2024  \n",
       "8  3,878,113 Dollars  11901180    18%   No  1/10/2024  \n",
       "9  5,635,276 Dollars   5453060     7%  Yes  1/11/2024  "
      ]
     },
     "execution_count": 11,
     "metadata": {},
     "output_type": "execute_result"
    }
   ],
   "source": [
    "read_csv[read_csv[\"ID\"]>5]"
   ]
  },
  {
   "cell_type": "code",
   "execution_count": 12,
   "metadata": {},
   "outputs": [
    {
     "data": {
      "text/plain": [
       "ID                           1\n",
       "Name                   Lamtone\n",
       "Industry           IT Services\n",
       "Inception                 2009\n",
       "Revenue           $11,757,018 \n",
       "Expenses     6,482,465 Dollars\n",
       "Profit                 5274553\n",
       "Growth                     30%\n",
       "Date                       Yes\n",
       "dateTime              1/2/2024\n",
       "Name: 0, dtype: object"
      ]
     },
     "execution_count": 12,
     "metadata": {},
     "output_type": "execute_result"
    }
   ],
   "source": [
    "read_csv.iloc[0]"
   ]
  },
  {
   "cell_type": "code",
   "execution_count": 13,
   "metadata": {},
   "outputs": [
    {
     "data": {
      "text/html": [
       "<div>\n",
       "<style scoped>\n",
       "    .dataframe tbody tr th:only-of-type {\n",
       "        vertical-align: middle;\n",
       "    }\n",
       "\n",
       "    .dataframe tbody tr th {\n",
       "        vertical-align: top;\n",
       "    }\n",
       "\n",
       "    .dataframe thead th {\n",
       "        text-align: right;\n",
       "    }\n",
       "</style>\n",
       "<table border=\"1\" class=\"dataframe\">\n",
       "  <thead>\n",
       "    <tr style=\"text-align: right;\">\n",
       "      <th></th>\n",
       "      <th>ID</th>\n",
       "      <th>Name</th>\n",
       "      <th>Industry</th>\n",
       "      <th>Inception</th>\n",
       "      <th>Revenue</th>\n",
       "      <th>Expenses</th>\n",
       "      <th>Profit</th>\n",
       "      <th>Growth</th>\n",
       "      <th>Date</th>\n",
       "      <th>dateTime</th>\n",
       "    </tr>\n",
       "  </thead>\n",
       "  <tbody>\n",
       "    <tr>\n",
       "      <th>0</th>\n",
       "      <td>1</td>\n",
       "      <td>Lamtone</td>\n",
       "      <td>IT Services</td>\n",
       "      <td>2009</td>\n",
       "      <td>$11,757,018</td>\n",
       "      <td>6,482,465 Dollars</td>\n",
       "      <td>5274553</td>\n",
       "      <td>30%</td>\n",
       "      <td>Yes</td>\n",
       "      <td>1/2/2024</td>\n",
       "    </tr>\n",
       "  </tbody>\n",
       "</table>\n",
       "</div>"
      ],
      "text/plain": [
       "   ID     Name     Industry  Inception       Revenue           Expenses  \\\n",
       "0   1  Lamtone  IT Services       2009  $11,757,018   6,482,465 Dollars   \n",
       "\n",
       "    Profit Growth Date  dateTime  \n",
       "0  5274553    30%  Yes  1/2/2024  "
      ]
     },
     "execution_count": 13,
     "metadata": {},
     "output_type": "execute_result"
    }
   ],
   "source": [
    "read_csv.iloc[[0]]"
   ]
  },
  {
   "cell_type": "code",
   "execution_count": 14,
   "metadata": {},
   "outputs": [
    {
     "data": {
      "text/plain": [
       "0     1\n",
       "1     2\n",
       "2     3\n",
       "3     4\n",
       "4     5\n",
       "5     6\n",
       "6     7\n",
       "7     8\n",
       "8     9\n",
       "9    10\n",
       "Name: ID, dtype: int64"
      ]
     },
     "execution_count": 14,
     "metadata": {},
     "output_type": "execute_result"
    }
   ],
   "source": [
    "read_csv.iloc[:,0]"
   ]
  },
  {
   "cell_type": "code",
   "execution_count": 15,
   "metadata": {},
   "outputs": [
    {
     "data": {
      "text/html": [
       "<div>\n",
       "<style scoped>\n",
       "    .dataframe tbody tr th:only-of-type {\n",
       "        vertical-align: middle;\n",
       "    }\n",
       "\n",
       "    .dataframe tbody tr th {\n",
       "        vertical-align: top;\n",
       "    }\n",
       "\n",
       "    .dataframe thead th {\n",
       "        text-align: right;\n",
       "    }\n",
       "</style>\n",
       "<table border=\"1\" class=\"dataframe\">\n",
       "  <thead>\n",
       "    <tr style=\"text-align: right;\">\n",
       "      <th></th>\n",
       "      <th>ID</th>\n",
       "      <th>Name</th>\n",
       "      <th>Industry</th>\n",
       "      <th>Inception</th>\n",
       "      <th>Revenue</th>\n",
       "      <th>Expenses</th>\n",
       "      <th>Profit</th>\n",
       "      <th>Growth</th>\n",
       "      <th>Date</th>\n",
       "      <th>dateTime</th>\n",
       "    </tr>\n",
       "  </thead>\n",
       "  <tbody>\n",
       "    <tr>\n",
       "      <th>0</th>\n",
       "      <td>1</td>\n",
       "      <td>Lamtone</td>\n",
       "      <td>IT Services</td>\n",
       "      <td>2009</td>\n",
       "      <td>$11,757,018</td>\n",
       "      <td>6,482,465 Dollars</td>\n",
       "      <td>5274553</td>\n",
       "      <td>30%</td>\n",
       "      <td>Yes</td>\n",
       "      <td>1/2/2024</td>\n",
       "    </tr>\n",
       "    <tr>\n",
       "      <th>2</th>\n",
       "      <td>3</td>\n",
       "      <td>Canecorporation</td>\n",
       "      <td>Health</td>\n",
       "      <td>2012</td>\n",
       "      <td>$10,597,009</td>\n",
       "      <td>7,591,189 Dollars</td>\n",
       "      <td>3005820</td>\n",
       "      <td>7%</td>\n",
       "      <td>Yes</td>\n",
       "      <td>1/4/2024</td>\n",
       "    </tr>\n",
       "  </tbody>\n",
       "</table>\n",
       "</div>"
      ],
      "text/plain": [
       "   ID             Name     Industry  Inception       Revenue  \\\n",
       "0   1          Lamtone  IT Services       2009  $11,757,018    \n",
       "2   3  Canecorporation       Health       2012  $10,597,009    \n",
       "\n",
       "            Expenses   Profit Growth Date  dateTime  \n",
       "0  6,482,465 Dollars  5274553    30%  Yes  1/2/2024  \n",
       "2  7,591,189 Dollars  3005820     7%  Yes  1/4/2024  "
      ]
     },
     "execution_count": 15,
     "metadata": {},
     "output_type": "execute_result"
    }
   ],
   "source": [
    "read_csv.iloc[[True,False,True]]"
   ]
  },
  {
   "cell_type": "code",
   "execution_count": null,
   "metadata": {},
   "outputs": [],
   "source": []
  },
  {
   "cell_type": "markdown",
   "metadata": {},
   "source": [
    "# ptr"
   ]
  },
  {
   "cell_type": "code",
   "execution_count": 17,
   "metadata": {},
   "outputs": [
    {
     "data": {
      "text/html": [
       "<div>\n",
       "<style scoped>\n",
       "    .dataframe tbody tr th:only-of-type {\n",
       "        vertical-align: middle;\n",
       "    }\n",
       "\n",
       "    .dataframe tbody tr th {\n",
       "        vertical-align: top;\n",
       "    }\n",
       "\n",
       "    .dataframe thead th {\n",
       "        text-align: right;\n",
       "    }\n",
       "</style>\n",
       "<table border=\"1\" class=\"dataframe\">\n",
       "  <thead>\n",
       "    <tr style=\"text-align: right;\">\n",
       "      <th></th>\n",
       "      <th>ID</th>\n",
       "      <th>Name</th>\n",
       "      <th>Industry</th>\n",
       "      <th>Inception</th>\n",
       "      <th>Revenue</th>\n",
       "      <th>Expenses</th>\n",
       "      <th>Profit</th>\n",
       "      <th>Growth</th>\n",
       "      <th>Date</th>\n",
       "      <th>dateTime</th>\n",
       "    </tr>\n",
       "  </thead>\n",
       "  <tbody>\n",
       "    <tr>\n",
       "      <th>0</th>\n",
       "      <td>1</td>\n",
       "      <td>Lamtone</td>\n",
       "      <td>IT Services</td>\n",
       "      <td>2009</td>\n",
       "      <td>$11,757,018</td>\n",
       "      <td>6,482,465 Dollars</td>\n",
       "      <td>5274553</td>\n",
       "      <td>30%</td>\n",
       "      <td>Yes</td>\n",
       "      <td>1/2/2024</td>\n",
       "    </tr>\n",
       "    <tr>\n",
       "      <th>1</th>\n",
       "      <td>2</td>\n",
       "      <td>Stripfind</td>\n",
       "      <td>Financial Services</td>\n",
       "      <td>2010</td>\n",
       "      <td>$12,329,371</td>\n",
       "      <td>916,455 Dollars</td>\n",
       "      <td>11412916</td>\n",
       "      <td>20%</td>\n",
       "      <td>Yes</td>\n",
       "      <td>1/3/2024</td>\n",
       "    </tr>\n",
       "    <tr>\n",
       "      <th>2</th>\n",
       "      <td>3</td>\n",
       "      <td>Canecorporation</td>\n",
       "      <td>Health</td>\n",
       "      <td>2012</td>\n",
       "      <td>$10,597,009</td>\n",
       "      <td>7,591,189 Dollars</td>\n",
       "      <td>3005820</td>\n",
       "      <td>7%</td>\n",
       "      <td>Yes</td>\n",
       "      <td>1/4/2024</td>\n",
       "    </tr>\n",
       "    <tr>\n",
       "      <th>3</th>\n",
       "      <td>4</td>\n",
       "      <td>Mattouch</td>\n",
       "      <td>IT Services</td>\n",
       "      <td>2013</td>\n",
       "      <td>$14,026,934</td>\n",
       "      <td>7,429,377 Dollars</td>\n",
       "      <td>6597557</td>\n",
       "      <td>26%</td>\n",
       "      <td>Yes</td>\n",
       "      <td>1/5/2024</td>\n",
       "    </tr>\n",
       "    <tr>\n",
       "      <th>4</th>\n",
       "      <td>5</td>\n",
       "      <td>Techdrill</td>\n",
       "      <td>Health</td>\n",
       "      <td>2009</td>\n",
       "      <td>$10,573,990</td>\n",
       "      <td>7,435,363 Dollars</td>\n",
       "      <td>3138627</td>\n",
       "      <td>8%</td>\n",
       "      <td>Yes</td>\n",
       "      <td>NaN</td>\n",
       "    </tr>\n",
       "    <tr>\n",
       "      <th>5</th>\n",
       "      <td>6</td>\n",
       "      <td>Techline</td>\n",
       "      <td>Health</td>\n",
       "      <td>2006</td>\n",
       "      <td>$13,898,119</td>\n",
       "      <td>5,470,303 Dollars</td>\n",
       "      <td>8427816</td>\n",
       "      <td>23%</td>\n",
       "      <td>No</td>\n",
       "      <td>NaN</td>\n",
       "    </tr>\n",
       "    <tr>\n",
       "      <th>6</th>\n",
       "      <td>7</td>\n",
       "      <td>Cityace</td>\n",
       "      <td>Health</td>\n",
       "      <td>2010</td>\n",
       "      <td>$9,254,614</td>\n",
       "      <td>6,249,498 Dollars</td>\n",
       "      <td>3005116</td>\n",
       "      <td>6%</td>\n",
       "      <td>Yes</td>\n",
       "      <td>NaN</td>\n",
       "    </tr>\n",
       "    <tr>\n",
       "      <th>7</th>\n",
       "      <td>8</td>\n",
       "      <td>Kayelectronics</td>\n",
       "      <td>Health</td>\n",
       "      <td>2009</td>\n",
       "      <td>$9,451,943</td>\n",
       "      <td>3,878,113 Dollars</td>\n",
       "      <td>5573830</td>\n",
       "      <td>4%</td>\n",
       "      <td>Yes</td>\n",
       "      <td>1/9/2024</td>\n",
       "    </tr>\n",
       "    <tr>\n",
       "      <th>8</th>\n",
       "      <td>9</td>\n",
       "      <td>Ganzlax</td>\n",
       "      <td>IT Services</td>\n",
       "      <td>2011</td>\n",
       "      <td>$14,001,180</td>\n",
       "      <td>3,878,113 Dollars</td>\n",
       "      <td>11901180</td>\n",
       "      <td>18%</td>\n",
       "      <td>No</td>\n",
       "      <td>1/10/2024</td>\n",
       "    </tr>\n",
       "    <tr>\n",
       "      <th>9</th>\n",
       "      <td>10</td>\n",
       "      <td>Trantraxlax</td>\n",
       "      <td>Government Services</td>\n",
       "      <td>2011</td>\n",
       "      <td>$11,088,336</td>\n",
       "      <td>5,635,276 Dollars</td>\n",
       "      <td>5453060</td>\n",
       "      <td>7%</td>\n",
       "      <td>Yes</td>\n",
       "      <td>1/11/2024</td>\n",
       "    </tr>\n",
       "  </tbody>\n",
       "</table>\n",
       "</div>"
      ],
      "text/plain": [
       "   ID             Name             Industry  Inception       Revenue  \\\n",
       "0   1          Lamtone          IT Services       2009  $11,757,018    \n",
       "1   2        Stripfind   Financial Services       2010  $12,329,371    \n",
       "2   3  Canecorporation               Health       2012  $10,597,009    \n",
       "3   4         Mattouch          IT Services       2013  $14,026,934    \n",
       "4   5        Techdrill               Health       2009  $10,573,990    \n",
       "5   6         Techline               Health       2006  $13,898,119    \n",
       "6   7          Cityace               Health       2010   $9,254,614    \n",
       "7   8   Kayelectronics               Health       2009   $9,451,943    \n",
       "8   9          Ganzlax          IT Services       2011  $14,001,180    \n",
       "9  10      Trantraxlax  Government Services       2011  $11,088,336    \n",
       "\n",
       "            Expenses    Profit Growth Date   dateTime  \n",
       "0  6,482,465 Dollars   5274553    30%  Yes   1/2/2024  \n",
       "1    916,455 Dollars  11412916    20%  Yes   1/3/2024  \n",
       "2  7,591,189 Dollars   3005820     7%  Yes   1/4/2024  \n",
       "3  7,429,377 Dollars   6597557    26%  Yes   1/5/2024  \n",
       "4  7,435,363 Dollars   3138627     8%  Yes        NaN  \n",
       "5  5,470,303 Dollars   8427816    23%   No        NaN  \n",
       "6  6,249,498 Dollars   3005116     6%  Yes        NaN  \n",
       "7  3,878,113 Dollars   5573830     4%  Yes   1/9/2024  \n",
       "8  3,878,113 Dollars  11901180    18%   No  1/10/2024  \n",
       "9  5,635,276 Dollars   5453060     7%  Yes  1/11/2024  "
      ]
     },
     "execution_count": 17,
     "metadata": {},
     "output_type": "execute_result"
    }
   ],
   "source": [
    "read_csv=pd.read_csv(\"c:/users/musfik/documents/Copy of Fortune_10.csv\")\n",
    "read_csv"
   ]
  },
  {
   "cell_type": "code",
   "execution_count": 18,
   "metadata": {},
   "outputs": [
    {
     "data": {
      "text/plain": [
       "ID                           1\n",
       "Name                   Lamtone\n",
       "Industry           IT Services\n",
       "Inception                 2009\n",
       "Revenue           $11,757,018 \n",
       "Expenses     6,482,465 Dollars\n",
       "Profit                 5274553\n",
       "Growth                     30%\n",
       "Date                       Yes\n",
       "dateTime              1/2/2024\n",
       "Name: 0, dtype: object"
      ]
     },
     "execution_count": 18,
     "metadata": {},
     "output_type": "execute_result"
    }
   ],
   "source": [
    "read_csv.loc[0]"
   ]
  },
  {
   "cell_type": "code",
   "execution_count": 19,
   "metadata": {},
   "outputs": [
    {
     "data": {
      "text/plain": [
       "'Lamtone'"
      ]
     },
     "execution_count": 19,
     "metadata": {},
     "output_type": "execute_result"
    }
   ],
   "source": [
    "read_csv.loc[0,\"Name\"]"
   ]
  },
  {
   "cell_type": "code",
   "execution_count": 21,
   "metadata": {},
   "outputs": [
    {
     "data": {
      "text/html": [
       "<div>\n",
       "<style scoped>\n",
       "    .dataframe tbody tr th:only-of-type {\n",
       "        vertical-align: middle;\n",
       "    }\n",
       "\n",
       "    .dataframe tbody tr th {\n",
       "        vertical-align: top;\n",
       "    }\n",
       "\n",
       "    .dataframe thead th {\n",
       "        text-align: right;\n",
       "    }\n",
       "</style>\n",
       "<table border=\"1\" class=\"dataframe\">\n",
       "  <thead>\n",
       "    <tr style=\"text-align: right;\">\n",
       "      <th></th>\n",
       "      <th>ID</th>\n",
       "      <th>Name</th>\n",
       "      <th>Industry</th>\n",
       "      <th>Inception</th>\n",
       "      <th>Revenue</th>\n",
       "      <th>Expenses</th>\n",
       "      <th>Profit</th>\n",
       "      <th>Growth</th>\n",
       "      <th>Date</th>\n",
       "      <th>dateTime</th>\n",
       "    </tr>\n",
       "  </thead>\n",
       "  <tbody>\n",
       "    <tr>\n",
       "      <th>1</th>\n",
       "      <td>2</td>\n",
       "      <td>Stripfind</td>\n",
       "      <td>Financial Services</td>\n",
       "      <td>2010</td>\n",
       "      <td>$12,329,371</td>\n",
       "      <td>916,455 Dollars</td>\n",
       "      <td>11412916</td>\n",
       "      <td>20%</td>\n",
       "      <td>Yes</td>\n",
       "      <td>1/3/2024</td>\n",
       "    </tr>\n",
       "    <tr>\n",
       "      <th>3</th>\n",
       "      <td>4</td>\n",
       "      <td>Mattouch</td>\n",
       "      <td>IT Services</td>\n",
       "      <td>2013</td>\n",
       "      <td>$14,026,934</td>\n",
       "      <td>7,429,377 Dollars</td>\n",
       "      <td>6597557</td>\n",
       "      <td>26%</td>\n",
       "      <td>Yes</td>\n",
       "      <td>1/5/2024</td>\n",
       "    </tr>\n",
       "  </tbody>\n",
       "</table>\n",
       "</div>"
      ],
      "text/plain": [
       "   ID       Name            Industry  Inception       Revenue  \\\n",
       "1   2  Stripfind  Financial Services       2010  $12,329,371    \n",
       "3   4   Mattouch         IT Services       2013  $14,026,934    \n",
       "\n",
       "            Expenses    Profit Growth Date  dateTime  \n",
       "1    916,455 Dollars  11412916    20%  Yes  1/3/2024  \n",
       "3  7,429,377 Dollars   6597557    26%  Yes  1/5/2024  "
      ]
     },
     "execution_count": 21,
     "metadata": {},
     "output_type": "execute_result"
    }
   ],
   "source": [
    "read_csv.loc[[1,3]]"
   ]
  },
  {
   "cell_type": "code",
   "execution_count": 22,
   "metadata": {},
   "outputs": [
    {
     "data": {
      "text/html": [
       "<div>\n",
       "<style scoped>\n",
       "    .dataframe tbody tr th:only-of-type {\n",
       "        vertical-align: middle;\n",
       "    }\n",
       "\n",
       "    .dataframe tbody tr th {\n",
       "        vertical-align: top;\n",
       "    }\n",
       "\n",
       "    .dataframe thead th {\n",
       "        text-align: right;\n",
       "    }\n",
       "</style>\n",
       "<table border=\"1\" class=\"dataframe\">\n",
       "  <thead>\n",
       "    <tr style=\"text-align: right;\">\n",
       "      <th></th>\n",
       "      <th>Name</th>\n",
       "      <th>Industry</th>\n",
       "    </tr>\n",
       "  </thead>\n",
       "  <tbody>\n",
       "    <tr>\n",
       "      <th>1</th>\n",
       "      <td>Stripfind</td>\n",
       "      <td>Financial Services</td>\n",
       "    </tr>\n",
       "    <tr>\n",
       "      <th>3</th>\n",
       "      <td>Mattouch</td>\n",
       "      <td>IT Services</td>\n",
       "    </tr>\n",
       "  </tbody>\n",
       "</table>\n",
       "</div>"
      ],
      "text/plain": [
       "        Name            Industry\n",
       "1  Stripfind  Financial Services\n",
       "3   Mattouch         IT Services"
      ]
     },
     "execution_count": 22,
     "metadata": {},
     "output_type": "execute_result"
    }
   ],
   "source": [
    "read_csv.loc[[1,3],[\"Name\",\"Industry\"]]"
   ]
  },
  {
   "cell_type": "code",
   "execution_count": 23,
   "metadata": {},
   "outputs": [
    {
     "data": {
      "text/html": [
       "<div>\n",
       "<style scoped>\n",
       "    .dataframe tbody tr th:only-of-type {\n",
       "        vertical-align: middle;\n",
       "    }\n",
       "\n",
       "    .dataframe tbody tr th {\n",
       "        vertical-align: top;\n",
       "    }\n",
       "\n",
       "    .dataframe thead th {\n",
       "        text-align: right;\n",
       "    }\n",
       "</style>\n",
       "<table border=\"1\" class=\"dataframe\">\n",
       "  <thead>\n",
       "    <tr style=\"text-align: right;\">\n",
       "      <th></th>\n",
       "      <th>ID</th>\n",
       "      <th>Name</th>\n",
       "      <th>Industry</th>\n",
       "      <th>Inception</th>\n",
       "      <th>Revenue</th>\n",
       "      <th>Expenses</th>\n",
       "      <th>Profit</th>\n",
       "      <th>Growth</th>\n",
       "      <th>Date</th>\n",
       "      <th>dateTime</th>\n",
       "    </tr>\n",
       "  </thead>\n",
       "  <tbody>\n",
       "    <tr>\n",
       "      <th>0</th>\n",
       "      <td>1</td>\n",
       "      <td>Lamtone</td>\n",
       "      <td>IT Services</td>\n",
       "      <td>2009</td>\n",
       "      <td>$11,757,018</td>\n",
       "      <td>6,482,465 Dollars</td>\n",
       "      <td>5274553</td>\n",
       "      <td>30%</td>\n",
       "      <td>Yes</td>\n",
       "      <td>1/2/2024</td>\n",
       "    </tr>\n",
       "  </tbody>\n",
       "</table>\n",
       "</div>"
      ],
      "text/plain": [
       "   ID     Name     Industry  Inception       Revenue           Expenses  \\\n",
       "0   1  Lamtone  IT Services       2009  $11,757,018   6,482,465 Dollars   \n",
       "\n",
       "    Profit Growth Date  dateTime  \n",
       "0  5274553    30%  Yes  1/2/2024  "
      ]
     },
     "execution_count": 23,
     "metadata": {},
     "output_type": "execute_result"
    }
   ],
   "source": [
    "read_csv.loc[[True]]"
   ]
  },
  {
   "cell_type": "code",
   "execution_count": 27,
   "metadata": {},
   "outputs": [
    {
     "data": {
      "text/plain": [
       "5    2006\n",
       "6    2010\n",
       "7    2009\n",
       "8    2011\n",
       "9    2011\n",
       "Name: Inception, dtype: int64"
      ]
     },
     "execution_count": 27,
     "metadata": {},
     "output_type": "execute_result"
    }
   ],
   "source": [
    "read_csv.loc[read_csv[\"ID\"]>5,\"Inception\"]"
   ]
  },
  {
   "cell_type": "code",
   "execution_count": 28,
   "metadata": {},
   "outputs": [
    {
     "data": {
      "text/plain": [
       "ID                           1\n",
       "Name                   Lamtone\n",
       "Industry           IT Services\n",
       "Inception                 2009\n",
       "Revenue           $11,757,018 \n",
       "Expenses     6,482,465 Dollars\n",
       "Profit                 5274553\n",
       "Growth                     30%\n",
       "Date                       Yes\n",
       "dateTime              1/2/2024\n",
       "Name: 0, dtype: object"
      ]
     },
     "execution_count": 28,
     "metadata": {},
     "output_type": "execute_result"
    }
   ],
   "source": [
    "read_csv.iloc[0]"
   ]
  },
  {
   "cell_type": "code",
   "execution_count": 30,
   "metadata": {},
   "outputs": [
    {
     "data": {
      "text/plain": [
       "1"
      ]
     },
     "execution_count": 30,
     "metadata": {},
     "output_type": "execute_result"
    }
   ],
   "source": [
    "read_csv.iloc[0,0]"
   ]
  },
  {
   "cell_type": "code",
   "execution_count": null,
   "metadata": {},
   "outputs": [],
   "source": []
  }
 ],
 "metadata": {
  "kernelspec": {
   "display_name": "Python 2",
   "language": "python",
   "name": "python2"
  },
  "language_info": {
   "codemirror_mode": {
    "name": "ipython",
    "version": 2
   },
   "file_extension": ".py",
   "mimetype": "text/x-python",
   "name": "python",
   "nbconvert_exporter": "python",
   "pygments_lexer": "ipython2",
   "version": "2.7.15"
  }
 },
 "nbformat": 4,
 "nbformat_minor": 2
}
